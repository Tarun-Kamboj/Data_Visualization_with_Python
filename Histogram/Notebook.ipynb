{
 "cells": [
  {
   "cell_type": "markdown",
   "metadata": {
    "button": false,
    "new_sheet": false,
    "run_control": {
     "read_only": false
    }
   },
   "source": [
    "# Histogram\n",
    "---"
   ]
  },
  {
   "cell_type": "markdown",
   "metadata": {},
   "source": [
    "Let's import all the dependencies first."
   ]
  },
  {
   "cell_type": "code",
   "execution_count": 1,
   "metadata": {
    "button": false,
    "new_sheet": false,
    "run_control": {
     "read_only": false
    },
    "scrolled": false
   },
   "outputs": [],
   "source": [
    "# primary data structure library\n",
    "import pandas as pd       \n",
    "\n",
    "# primary plotting library\n",
    "import matplotlib as mpl       \n",
    "\n",
    "# importing the pyplot layer of matplotlib for easy usage\n",
    "import matplotlib.pyplot as plt        \n",
    "\n",
    "# optional: for ggplot-like style of plots\n",
    "mpl.style.use(['ggplot'])        \n",
    "\n",
    "# using the inline backend\n",
    "%matplotlib inline "
   ]
  },
  {
   "cell_type": "markdown",
   "metadata": {},
   "source": [
    "Now we'll create the DataFrame."
   ]
  },
  {
   "cell_type": "code",
   "execution_count": 2,
   "metadata": {},
   "outputs": [
    {
     "data": {
      "text/html": [
       "<div>\n",
       "<style scoped>\n",
       "    .dataframe tbody tr th:only-of-type {\n",
       "        vertical-align: middle;\n",
       "    }\n",
       "\n",
       "    .dataframe tbody tr th {\n",
       "        vertical-align: top;\n",
       "    }\n",
       "\n",
       "    .dataframe thead th {\n",
       "        text-align: right;\n",
       "    }\n",
       "</style>\n",
       "<table border=\"1\" class=\"dataframe\">\n",
       "  <thead>\n",
       "    <tr style=\"text-align: right;\">\n",
       "      <th></th>\n",
       "      <th>1</th>\n",
       "      <th>2</th>\n",
       "      <th>3</th>\n",
       "      <th>4</th>\n",
       "      <th>5</th>\n",
       "      <th>6</th>\n",
       "      <th>7</th>\n",
       "      <th>8</th>\n",
       "      <th>9</th>\n",
       "      <th>10</th>\n",
       "    </tr>\n",
       "  </thead>\n",
       "  <tbody>\n",
       "    <tr>\n",
       "      <th>A</th>\n",
       "      <td>45</td>\n",
       "      <td>67</td>\n",
       "      <td>123</td>\n",
       "      <td>178</td>\n",
       "      <td>154</td>\n",
       "      <td>182</td>\n",
       "      <td>287</td>\n",
       "      <td>243</td>\n",
       "      <td>267</td>\n",
       "      <td>678</td>\n",
       "    </tr>\n",
       "    <tr>\n",
       "      <th>B</th>\n",
       "      <td>23</td>\n",
       "      <td>178</td>\n",
       "      <td>154</td>\n",
       "      <td>182</td>\n",
       "      <td>285</td>\n",
       "      <td>213</td>\n",
       "      <td>267</td>\n",
       "      <td>678</td>\n",
       "      <td>244</td>\n",
       "      <td>365</td>\n",
       "    </tr>\n",
       "    <tr>\n",
       "      <th>C</th>\n",
       "      <td>354</td>\n",
       "      <td>390</td>\n",
       "      <td>489</td>\n",
       "      <td>428</td>\n",
       "      <td>401</td>\n",
       "      <td>502</td>\n",
       "      <td>528</td>\n",
       "      <td>529</td>\n",
       "      <td>561</td>\n",
       "      <td>865</td>\n",
       "    </tr>\n",
       "  </tbody>\n",
       "</table>\n",
       "</div>"
      ],
      "text/plain": [
       "    1    2    3    4    5    6    7    8    9    10\n",
       "A   45   67  123  178  154  182  287  243  267  678\n",
       "B   23  178  154  182  285  213  267  678  244  365\n",
       "C  354  390  489  428  401  502  528  529  561  865"
      ]
     },
     "execution_count": 2,
     "metadata": {},
     "output_type": "execute_result"
    }
   ],
   "source": [
    "# dict for dummy data to be used in dataframe\n",
    "data = { 'A': [45,67,123,178,154,182,287,243,267,678],\n",
    "         'B': [23,178,154,182,285,213,267,678,244,365],\n",
    "         'C': [354,390,489,428,401,502,528,529,561,865]\n",
    "       }       \n",
    "\n",
    "# list for indexes to be used in dataframe\n",
    "index = [1, 2, 3,4,5,6,7,8,9,10]        \n",
    "\n",
    "# making dataframe\n",
    "df = pd.DataFrame(data, index=index)   \n",
    "\n",
    "# showing dataframe\n",
    "df.T     "
   ]
  },
  {
   "cell_type": "markdown",
   "metadata": {},
   "source": [
    "Let's create the histogram of the column 'B'."
   ]
  },
  {
   "cell_type": "code",
   "execution_count": 3,
   "metadata": {},
   "outputs": [
    {
     "data": {
      "image/png": "[encoded data removed]",
      "text/plain": [
       "<Figure size 720x432 with 1 Axes>"
      ]
     },
     "metadata": {
      "needs_background": "light"
     },
     "output_type": "display_data"
    }
   ],
   "source": [
    "# ploting the graph\n",
    "df['B'].plot(kind ='hist',   # type of plot\n",
    "             alpha=0.6,         # transparency of plot\n",
    "             figsize=(10, 6)   # size of plot\n",
    "            )\n",
    "\n",
    "# giving titles and labels\n",
    "plt.title('Title of the Plot')\n",
    "plt.ylabel('Label on Y-axis')\n",
    "plt.xlabel('Label on X-axis')\n",
    "\n",
    "# showing the plot\n",
    "plt.show()"
   ]
  },
  {
   "cell_type": "markdown",
   "metadata": {},
   "source": [
    "we can also make the histogram of the whole dataframe as folows."
   ]
  },
  {
   "cell_type": "code",
   "execution_count": 4,
   "metadata": {},
   "outputs": [
    {
     "data": {
      "image/png": "[encoded data removed]",
      "text/plain": [
       "<Figure size 720x432 with 1 Axes>"
      ]
     },
     "metadata": {
      "needs_background": "light"
     },
     "output_type": "display_data"
    }
   ],
   "source": [
    "df.plot(kind ='hist', \n",
    "          figsize=(10, 6),\n",
    "          alpha=0.6,\n",
    "          color=['coral', 'darkslateblue', 'mediumseagreen']  # different colours for different columns\n",
    "         )\n",
    "plt.title('Title of the Plot')\n",
    "plt.ylabel('Label on Y-axis')\n",
    "plt.xlabel('Label on X-axis')\n",
    "plt.show()"
   ]
  },
  {
   "cell_type": "markdown",
   "metadata": {},
   "source": [
    "To change the markings on the x-axis, we need to pass a list as `xticks` parameter. And for changing bin size, pass an integer as `bins` parameter."
   ]
  },
  {
   "cell_type": "code",
   "execution_count": 5,
   "metadata": {},
   "outputs": [
    {
     "data": {
      "image/png": "[encoded data removed]",
      "text/plain": [
       "<Figure size 720x432 with 1 Axes>"
      ]
     },
     "metadata": {
      "needs_background": "light"
     },
     "output_type": "display_data"
    }
   ],
   "source": [
    "df.plot(kind ='hist', \n",
    "          figsize=(10, 6),\n",
    "          alpha=0.6,\n",
    "          bins=10,  # passing no of bins\n",
    "          xticks=[100,200,300,400,500,600,700,800,900,1000],   # passing xticks\n",
    "          color=['coral', 'darkslateblue', 'mediumseagreen']\n",
    "         )\n",
    "plt.title('Title of the Plot')\n",
    "plt.ylabel('Label on Y-axis')\n",
    "plt.xlabel('Label on X-axis')\n",
    "plt.show()"
   ]
  },
  {
   "cell_type": "markdown",
   "metadata": {},
   "source": [
    "To make the histogram stacked, we need to pass `stacked=True`."
   ]
  },
  {
   "cell_type": "code",
   "execution_count": 6,
   "metadata": {},
   "outputs": [
    {
     "data": {
      "image/png": "[encoded data removed]",
      "text/plain": [
       "<Figure size 720x432 with 1 Axes>"
      ]
     },
     "metadata": {
      "needs_background": "light"
     },
     "output_type": "display_data"
    }
   ],
   "source": [
    "df.plot(kind ='hist', \n",
    "          figsize=(10, 6),\n",
    "          alpha=0.6,\n",
    "          xticks=[100,200,300,400,500,600,700,800,900,1000],\n",
    "          stacked=True,   # stacking the columns\n",
    "          color=['coral', 'darkslateblue', 'mediumseagreen']\n",
    "         )\n",
    "plt.title('Title of the Plot')\n",
    "plt.ylabel('Label on Y-axis')\n",
    "plt.xlabel('Label on X-axis')\n",
    "plt.show()"
   ]
  },
  {
   "cell_type": "markdown",
   "metadata": {
    "button": false,
    "new_sheet": false,
    "run_control": {
     "read_only": false
    }
   },
   "source": [
    "## Thanks for reading this notebook :)"
   ]
  }
 ],
 "metadata": {
  "kernelspec": {
   "display_name": "Python 3",
   "language": "python",
   "name": "python3"
  },
  "language_info": {
   "codemirror_mode": {
    "name": "ipython",
    "version": 3
   },
   "file_extension": ".py",
   "mimetype": "text/x-python",
   "name": "python",
   "nbconvert_exporter": "python",
   "pygments_lexer": "ipython3",
   "version": "3.7.6"
  },
  "widgets": {
   "state": {},
   "version": "1.1.2"
  }
 },
 "nbformat": 4,
 "nbformat_minor": 2
}
