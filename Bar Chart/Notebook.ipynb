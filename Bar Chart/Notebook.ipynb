{
 "cells": [
  {
   "cell_type": "markdown",
   "metadata": {
    "button": false,
    "new_sheet": false,
    "run_control": {
     "read_only": false
    }
   },
   "source": [
    "# Bar Chart\n",
    "---\n",
    "\n",
    "A `bar chart` is a way of representing data where the *length* of the bars represents the magnitude/size of the feature/variable. Bar graphs usually represent numerical and categorical variables grouped in intervals. \n",
    "\n",
    "To create a bar chart, we can pass one of two arguments via `kind` parameter in `plot()`:\n",
    "\n",
    "* `kind=bar` creates a *vertical* bar chart\n",
    "* `kind=barh` creates a *horizontal* bar chart"
   ]
  },
  {
   "cell_type": "markdown",
   "metadata": {},
   "source": [
    "Let's import all the dependencies first."
   ]
  },
  {
   "cell_type": "code",
   "execution_count": 1,
   "metadata": {
    "button": false,
    "new_sheet": false,
    "run_control": {
     "read_only": false
    },
    "scrolled": false
   },
   "outputs": [],
   "source": [
    "# primary data structure library\n",
    "import pandas as pd       \n",
    "\n",
    "# primary plotting library\n",
    "import matplotlib as mpl       \n",
    "\n",
    "# importing the pyplot layer of matplotlib for easy usage\n",
    "import matplotlib.pyplot as plt        \n",
    "\n",
    "# optional: for ggplot-like style of plots\n",
    "mpl.style.use(['ggplot'])        \n",
    "\n",
    "# using the inline backend\n",
    "%matplotlib inline "
   ]
  },
  {
   "cell_type": "markdown",
   "metadata": {},
   "source": [
    "Now we'll create the DataFrame."
   ]
  },
  {
   "cell_type": "code",
   "execution_count": 2,
   "metadata": {},
   "outputs": [
    {
     "data": {
      "text/html": [
       "<div>\n",
       "<style scoped>\n",
       "    .dataframe tbody tr th:only-of-type {\n",
       "        vertical-align: middle;\n",
       "    }\n",
       "\n",
       "    .dataframe tbody tr th {\n",
       "        vertical-align: top;\n",
       "    }\n",
       "\n",
       "    .dataframe thead th {\n",
       "        text-align: right;\n",
       "    }\n",
       "</style>\n",
       "<table border=\"1\" class=\"dataframe\">\n",
       "  <thead>\n",
       "    <tr style=\"text-align: right;\">\n",
       "      <th></th>\n",
       "      <th>1</th>\n",
       "      <th>2</th>\n",
       "      <th>3</th>\n",
       "      <th>4</th>\n",
       "      <th>5</th>\n",
       "      <th>6</th>\n",
       "      <th>7</th>\n",
       "      <th>8</th>\n",
       "      <th>9</th>\n",
       "      <th>10</th>\n",
       "    </tr>\n",
       "  </thead>\n",
       "  <tbody>\n",
       "    <tr>\n",
       "      <th>A</th>\n",
       "      <td>45</td>\n",
       "      <td>67</td>\n",
       "      <td>23</td>\n",
       "      <td>18</td>\n",
       "      <td>54</td>\n",
       "      <td>82</td>\n",
       "      <td>87</td>\n",
       "      <td>43</td>\n",
       "      <td>67</td>\n",
       "      <td>78</td>\n",
       "    </tr>\n",
       "  </tbody>\n",
       "</table>\n",
       "</div>"
      ],
      "text/plain": [
       "   1   2   3   4   5   6   7   8   9   10\n",
       "A  45  67  23  18  54  82  87  43  67  78"
      ]
     },
     "execution_count": 2,
     "metadata": {},
     "output_type": "execute_result"
    }
   ],
   "source": [
    "# dict for dummy data to be used in dataframe\n",
    "data = { 'A': [45,67,23,18,54,82,87,43,67,78]}       \n",
    "\n",
    "# list for indexes to be used in dataframe\n",
    "index = [1, 2, 3,4,5,6,7,8,9,10]        \n",
    "\n",
    "# making dataframe\n",
    "df = pd.DataFrame(data, index=index)   \n",
    "\n",
    "# showing dataframe\n",
    "df.T   "
   ]
  },
  {
   "cell_type": "markdown",
   "metadata": {},
   "source": [
    "Let's create the vertical bar chart first."
   ]
  },
  {
   "cell_type": "code",
   "execution_count": 3,
   "metadata": {
    "scrolled": false
   },
   "outputs": [
    {
     "data": {
      "image/png": "[encoded data removed]",
      "text/plain": [
       "<Figure size 720x432 with 1 Axes>"
      ]
     },
     "metadata": {
      "needs_background": "light"
     },
     "output_type": "display_data"
    }
   ],
   "source": [
    "# ploting the graph\n",
    "df.plot(kind ='bar',   # type of plot\n",
    "             alpha=0.6,         # transparency of bars\n",
    "             figsize=(10, 6)   # size of plot\n",
    "            )\n",
    "\n",
    "# giving title and labels\n",
    "plt.title('Title of the Plot')\n",
    "plt.ylabel('Label on Y-axis')\n",
    "plt.xlabel('Label on X-axis')\n",
    "\n",
    "# showing the plot\n",
    "plt.show()"
   ]
  },
  {
   "cell_type": "markdown",
   "metadata": {},
   "source": [
    "Wait! something is not so pleasant here. The markings on x-axis are at 90°. Let's correct that."
   ]
  },
  {
   "cell_type": "code",
   "execution_count": 4,
   "metadata": {
    "scrolled": false
   },
   "outputs": [
    {
     "data": {
      "image/png": "[encoded data removed]",
      "text/plain": [
       "<Figure size 720x432 with 1 Axes>"
      ]
     },
     "metadata": {
      "needs_background": "light"
     },
     "output_type": "display_data"
    }
   ],
   "source": [
    "# ploting the graph\n",
    "df.plot(kind ='bar',\n",
    "             alpha=0.6,   \n",
    "             rot=0,   # rotating the markings on x-axis\n",
    "             figsize=(10, 6)\n",
    "            )\n",
    "\n",
    "# giving titles and labels\n",
    "plt.title('Title of the Plot')\n",
    "plt.ylabel('Label on Y-axis')\n",
    "plt.xlabel('Label on X-axis')\n",
    "\n",
    "# showing the plot\n",
    "plt.show()"
   ]
  },
  {
   "cell_type": "markdown",
   "metadata": {},
   "source": [
    "Let's plot the horizontal bar graph and also change the colour of bars."
   ]
  },
  {
   "cell_type": "code",
   "execution_count": 5,
   "metadata": {
    "scrolled": false
   },
   "outputs": [
    {
     "data": {
      "image/png": "[encoded data removed]",
      "text/plain": [
       "<Figure size 720x432 with 1 Axes>"
      ]
     },
     "metadata": {
      "needs_background": "light"
     },
     "output_type": "display_data"
    }
   ],
   "source": [
    "# ploting the graph\n",
    "df.plot(kind ='barh',   # type of plot\n",
    "             alpha=0.6,     \n",
    "             figsize=(10, 6),\n",
    "             color='steelblue'  # changing the colors of the bars\n",
    "            )\n",
    "\n",
    "# giving titles and labels\n",
    "plt.title('Title of the Plot')\n",
    "plt.ylabel('Label on Y-axis')\n",
    "plt.xlabel('Label on X-axis')\n",
    "\n",
    "# showing the plot\n",
    "plt.show()"
   ]
  },
  {
   "cell_type": "markdown",
   "metadata": {},
   "source": [
    "Now let's try and annotate the bars."
   ]
  },
  {
   "cell_type": "code",
   "execution_count": 6,
   "metadata": {
    "scrolled": false
   },
   "outputs": [
    {
     "data": {
      "image/png": "[encoded data removed]",
      "text/plain": [
       "<Figure size 720x432 with 1 Axes>"
      ]
     },
     "metadata": {
      "needs_background": "light"
     },
     "output_type": "display_data"
    }
   ],
   "source": [
    "df.plot(kind ='barh', \n",
    "             alpha=0.6,       \n",
    "             figsize=(10, 6),   \n",
    "             color='steelblue'\n",
    "            )\n",
    "\n",
    "# annotate value labels to each bar\n",
    "for index, value in enumerate(df['A']): \n",
    "    label = value\n",
    "    \n",
    "    # place text at the end of bar (subtracting 3 from x, and 0.1 from y to make it fit within the bar)\n",
    "    plt.annotate(label, xy=(value-3, index - 0.10), color='white')\n",
    "\n",
    "plt.title('Title of the Plot')\n",
    "plt.ylabel('Label on Y-axis')\n",
    "plt.xlabel('Label on X-axis')\n",
    "plt.show()"
   ]
  },
  {
   "cell_type": "markdown",
   "metadata": {
    "button": false,
    "new_sheet": false,
    "run_control": {
     "read_only": false
    }
   },
   "source": [
    "## Thanks for reading this notebook :)"
   ]
  }
 ],
 "metadata": {
  "kernelspec": {
   "display_name": "Python 3",
   "language": "python",
   "name": "python3"
  },
  "language_info": {
   "codemirror_mode": {
    "name": "ipython",
    "version": 3
   },
   "file_extension": ".py",
   "mimetype": "text/x-python",
   "name": "python",
   "nbconvert_exporter": "python",
   "pygments_lexer": "ipython3",
   "version": "3.7.6"
  },
  "widgets": {
   "state": {},
   "version": "1.1.2"
  }
 },
 "nbformat": 4,
 "nbformat_minor": 2
}
